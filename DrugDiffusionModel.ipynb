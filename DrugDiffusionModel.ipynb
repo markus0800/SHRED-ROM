{
 "cells": [
  {
   "cell_type": "markdown",
   "metadata": {
    "colab_type": "text",
    "id": "view-in-github"
   },
   "source": [
    "<a href=\"https://colab.research.google.com/github/MatteoTomasetto/SHRED-ROM/blob/main/Tutorial.ipynb\" target=\"_parent\"><img src=\"https://colab.research.google.com/assets/colab-badge.svg\" alt=\"Open In Colab\"/></a>"
   ]
  },
  {
   "cell_type": "code",
   "execution_count": 2,
   "metadata": {
    "id": "_CbWevFiEbY2"
   },
   "outputs": [],
   "source": [
    "# IMPORT LIBRARIES\n",
    "\n",
    "import torch\n",
    "import numpy as np\n",
    "import matplotlib.pyplot as plt\n",
    "\n",
    "np.random.seed(2025)"
   ]
  },
  {
   "cell_type": "markdown",
   "metadata": {
    "id": "0kwBmroMK-oj"
   },
   "source": [
    "##**Drug Diffusion Model**\n",
    "\n",
    "Consider a drug that is administered to a patient and diffuses between three compartments in the body, that are\n",
    "\n",
    "1.   Blood (central compartment)\n",
    "2.   Highly perfused tissues (like liver, kidneys)\n",
    "3.   Poorly perfused tissues (like fat, muscle)\n",
    "\n",
    "\n",
    "Let $u_1(t), u_2(t), u_3(t)$ be the amount of drug in each compartment at time $t$.\n",
    "\n",
    "Let $k_{1 \\to 2}, k_{2 \\to 1}, k_{1 \\to  3}, k_{3 \\to 1}$ be the transfer rates between the compartments and let $k_{1 \\to 0}$ be the elimination rate from the central compartment.\n",
    "\n",
    "The system of ODEs describing the drug diffusion is\n",
    "\n",
    "\\\n",
    "$$\n",
    "\\dot{{\\bf u}} =\n",
    "\\begin{bmatrix}\n",
    "-k_{1 \\to 2}-k_{1 \\to 3}-k_{1 \\to 0}  & k_{2 \\to 1} & k_{3 \\to 1}\n",
    "\\\\\n",
    "k_{1 \\to 2} & -k_{2 \\to 1} & 0\n",
    "\\\\\n",
    "k_{1 \\to 3} & 0 & -k_{3 \\to 1}\n",
    "\\end{bmatrix}\n",
    "{\\bf u}\n",
    "$$\n",
    "\n",
    "\\\n",
    "where ${\\bf u}(t) = [u_1(t), u_2(t), u_3(t)]^{\\top}$.\n",
    "\n",
    "Let us assume that $k_{1 \\to 2} = 0.4$, $k_{2 \\to 1} = 0.2$, $k_{1 \\to 3} = 0.1$, $k_{3 \\to 1} = 0.05$, while we consider a parametric elimination rate $k_{1 \\to 0} = \\mu$.\n",
    "\n",
    "\n",
    "The explicit solution of the system is given by\n",
    "\n",
    "\\\n",
    "$$\n",
    "\\begin{bmatrix}\n",
    "u_1(t,\\mu) \\\\ u_2(t,\\mu) \\\\ u_3(t,\\mu)\n",
    "\\end{bmatrix}\n",
    "= \\sum_{i=1}^3 c_i e^{\\lambda_i(\\mu) t} \\mathbf{v}_i(\\mu)\n",
    "$$\n",
    "\n",
    "\\\n",
    "where $\\lambda_i(\\mu)$ and $\\mathbf{v}_i(\\mu)$ for $i=1,2,3$ are, respectively, the eigenvalues and eigenvectors of the system matrix, while the coefficients $c_1, c_2, c_3$ has to be determined. To this aim, let us assume that a dose $D=1$ of the drug is administered to the central compartment at time $t=0$, that is $u_1(0, \\mu) = 1, u_2(0, \\mu) = u_3(0, \\mu) = 0$. Therefore the coefficients $c_1,c_2,c_3$ are determined by the system\n",
    "\n",
    "\\\n",
    "$$\n",
    "\\begin{bmatrix}\n",
    "u_1(0,\\mu) \\\\ u_2(0,\\mu) \\\\ u_3(0,\\mu)\n",
    "\\end{bmatrix}\n",
    "=\n",
    "\\begin{bmatrix}\n",
    "1 \\\\ 0 \\\\ 0\n",
    "\\end{bmatrix}\n",
    "=\n",
    "\\begin{bmatrix}\n",
    "| & | & | \\\\ \\mathbf{v}_1(\\mu) & \\mathbf{v}_2(\\mu) & \\mathbf{v}_3(\\mu) \\\\ | & | & |\n",
    "\\end{bmatrix}\n",
    "\\begin{bmatrix}\n",
    "c_1 \\\\ c_2 \\\\ c_3\n",
    "\\end{bmatrix}\n",
    "$$"
   ]
  },
  {
   "cell_type": "code",
   "execution_count": 3,
   "metadata": {
    "id": "nNnCgyULOXeb"
   },
   "outputs": [],
   "source": [
    "# DEFINE THE SYSTEM SOLVER\n",
    "\n",
    "def assembly(mu):\n",
    "    '''\n",
    "    Assembly the the three-Compartment drug diffusion model matrix\n",
    "\n",
    "    Input\n",
    "        parameter value   (`float`)\n",
    "\n",
    "    Output\n",
    "        system matrix     (`np.array[flaot]`, shape: (3, 3))\n",
    "    '''\n",
    "\n",
    "    # define transfer rates between compartments\n",
    "    k12 = 0.4\n",
    "    k21 = 0.2\n",
    "    k13 = 0.1\n",
    "    k31 = 0.05\n",
    "\n",
    "    # define elimination rate from the central compartment\n",
    "    k10 = mu\n",
    "\n",
    "    # define the system matrix\n",
    "    A = np.array([[-k12 -k13 -k10,  k21,  k31 ],\n",
    "                  [ k12,           -k21,  0   ],\n",
    "                  [ k13,            0,   -k31 ]])\n",
    "\n",
    "    return A\n",
    "\n",
    "\n",
    "def drug_diffusion(u0, mu, t):\n",
    "    '''\n",
    "    Solve the three-compartment drug diffusion model\n",
    "\n",
    "    Inputs\n",
    "        initial condition (`np.array[float]`, shape: (3,))\n",
    "        parameter value   (`float`)\n",
    "        time vector       (`np.array[float]`, shape: (ntimes,))\n",
    "\n",
    "    Output\n",
    "        solution matrix   (`np.array[float]`, shape: (ntimes, 3)\n",
    "    '''\n",
    "\n",
    "    u = np.zeros((len(t), len(u0)))   # solution vector\n",
    "    u[0] = u0                         # initialization\n",
    "\n",
    "    # assembly system matrix\n",
    "    A = assembly(mu)\n",
    "\n",
    "    # compute eigenvalues and eigenvectors of the system matrix\n",
    "    lambdas, V = np.linalg.eig(A)\n",
    "\n",
    "    # compute coefficients\n",
    "    c = np.linalg.solve(V, u0)\n",
    "\n",
    "    # compute solution\n",
    "    for i in range(1,len(t)):\n",
    "      u[i] = np.dot(V, c * np.exp(lambdas * t[i]))\n",
    "\n",
    "    return u"
   ]
  },
  {
   "cell_type": "code",
   "execution_count": 4,
   "metadata": {
    "id": "eweq1l4RXGNW"
   },
   "outputs": [
    {
     "data": {
      "image/png": "[encoded data removed]",
      "text/plain": [
       "<Figure size 800x500 with 1 Axes>"
      ]
     },
     "metadata": {},
     "output_type": "display_data"
    }
   ],
   "source": [
    "# SOLVE THE SYSTEM FOR A FIXED ELIMINATION RATE\n",
    "\n",
    "D = 1.0   # initial dose\n",
    "u0 = np.array([D, 0.0, 0.0])\n",
    "nstate = len(u0)\n",
    "\n",
    "mu = 0.3\n",
    "\n",
    "dt = 1.0\n",
    "T = 100.0\n",
    "t = np.arange(0, T + dt, dt)\n",
    "ntimes = len(t)\n",
    "\n",
    "u = drug_diffusion(u0, mu, t)\n",
    "\n",
    "plt.figure(figsize = (8,5))\n",
    "plt.plot(t, u[:,0], color = 'magenta', linewidth = 3, label = 'Blood')\n",
    "plt.plot(t, u[:,1], color = 'teal', linewidth = 3, label = 'Highly perfused tissues')\n",
    "plt.plot(t, u[:,2], color = 'darkkhaki', linewidth = 3, label = 'Poorly perfused tissues')\n",
    "plt.legend()\n",
    "plt.xlabel('Time')\n",
    "plt.ylabel('Amount of drug');\n",
    "plt.grid(True)"
   ]
  },
  {
   "cell_type": "code",
   "execution_count": 5,
   "metadata": {
    "id": "9xyJgYLj7LFr"
   },
   "outputs": [],
   "source": [
    "# DATA GENERATION\n",
    "\n",
    "D = 1.0   # initial dose\n",
    "u0 = np.array([D, 0.0, 0.0])\n",
    "nstate = len(u0)\n",
    "\n",
    "mu_range = [0.0, 1.0]\n",
    "\n",
    "dt = 1.0\n",
    "T = 100.0\n",
    "t = np.arange(0, T + dt, dt)\n",
    "ntimes = len(t)\n",
    "\n",
    "# training data generation\n",
    "ntrajectories = 20\n",
    "U = np.zeros((ntrajectories, ntimes, nstate))\n",
    "mus = np.linspace(mu_range[0], mu_range[1], ntrajectories)\n",
    "\n",
    "for i in range(ntrajectories):\n",
    "  U[i] = drug_diffusion(u0, mus[i], t)\n",
    "\n",
    "# test data generation\n",
    "ntest = 100\n",
    "Utest = np.zeros((ntest, ntimes, nstate))\n",
    "for i in range(ntest):\n",
    "  mus_test = (mu_range[1] - mu_range[0]) * np.random.rand() + mu_range[0]\n",
    "  Utest[i] = drug_diffusion(u0, mus_test, t)"
   ]
  },
  {
   "cell_type": "code",
   "execution_count": 6,
   "metadata": {
    "id": "-ea0qe0w9J4C"
   },
   "outputs": [
    {
     "data": {
      "application/vnd.jupyter.widget-view+json": {
       "model_id": "fd8418bd5b734435b4f5600c5a4b2af5",
       "version_major": 2,
       "version_minor": 0
      },
      "text/plain": [
       "interactive(children=(FloatSlider(value=0.0, description='μ', layout=Layout(height='50px', width='550px'), max…"
      ]
     },
     "metadata": {},
     "output_type": "display_data"
    }
   ],
   "source": [
    "# DATA VISUALIZATION\n",
    "\n",
    "from ipywidgets import interact, FloatSlider\n",
    "\n",
    "def plot_data(param):\n",
    "\n",
    "    plt.figure(figsize = (8,5))\n",
    "    idx = (np.abs(mus - param)).argmin()\n",
    "    plt.plot(t, U[idx,:,0], color = 'magenta', linewidth = 3, label = 'Blood')\n",
    "    plt.plot(t, U[idx,:,1], color = 'teal', linewidth = 3, label = 'Highly perfused tissues')\n",
    "    plt.plot(t, U[idx,:,2], color = 'darkkhaki', linewidth = 3, label = 'Poorly perfused tissues')\n",
    "    plt.legend()\n",
    "    plt.xlabel('Time')\n",
    "    plt.ylabel('Amount of drug');\n",
    "    plt.title(f'Elimination rate {round(param,3)}');\n",
    "    plt.grid(True)\n",
    "\n",
    "interact(plot_data, param = FloatSlider(value = mus[0], min = mus[0], max = mus[-1], step = (mus[1]-mus[0]), description='μ', layout={'width': '550px', 'height': '50px'}));"
   ]
  },
  {
   "cell_type": "code",
   "execution_count": 7,
   "metadata": {
    "id": "qOdWLTImTq5v"
   },
   "outputs": [],
   "source": [
    "# TORCH CONVERSION\n",
    "\n",
    "U = torch.from_numpy(U)\n",
    "Utest = torch.from_numpy(Utest)"
   ]
  },
  {
   "cell_type": "code",
   "execution_count": 8,
   "metadata": {
    "id": "9rEn7LNMTLTh"
   },
   "outputs": [],
   "source": [
    "# TRAIN-VALIDATION SPLITTING\n",
    "\n",
    "split_ratio = 0.8\n",
    "\n",
    "ntrain = round(split_ratio * ntrajectories)\n",
    "\n",
    "idx_train = np.random.choice(ntrajectories, size = ntrain, replace = False)\n",
    "mask = np.ones(ntrajectories)\n",
    "mask[idx_train] = 0\n",
    "idx_valid = np.arange(0, ntrajectories)[np.where(mask!=0)[0]]\n",
    "\n",
    "nvalid = idx_valid.shape[0]\n",
    "\n",
    "Utrain = U[idx_train]\n",
    "Uvalid = U[idx_valid]"
   ]
  },
  {
   "cell_type": "markdown",
   "metadata": {
    "id": "vyLRM0qgBQQD"
   },
   "source": [
    "## **SHallow REcurrent Decoder networks-based Reduced Order Modeling (SHRED-ROM)**\n",
    "\n",
    "Let us assume to have a sensor in the blood measuring the drug amount $u_1$ over time. *SHRED-ROM* aims to reconstruct the temporal evolution of the entire state vector $\\mathbf{u}(t, \\mu)$ starting from the limited sensor measurements available. In general, *SHRED-ROM* combines a recurrent neural network (LSTM), which encodes the temporal history of sensor values in multiple parametric regimes, and a shallow decoder, which projects the LSTM prediction to the (possibly high-dimensional) state dimension. Note that, in the example at hand, the state dimension is equal to $3$ and the decoder is not stricly needed.  \n",
    "\n",
    "## Is the sensors-based state reconstruction well-posed?\n",
    "\n",
    "The coefficients $c_1, c_2, c_3$ in the explicit solution formula may be determined by employing one sensor monitoring $u_1$ over time. Specifically, if we measure $u_1(0,\\mu), u_1(1,\\mu), u_1(2,\\mu)$ in the scenario identified by $\\mu$, the linear system\n",
    "\n",
    "\\\n",
    "$$\n",
    "\\begin{bmatrix}\n",
    "u_1(0,\\mu) \\\\ u_1(1,\\mu) \\\\ u_1(2,\\mu)\n",
    "\\end{bmatrix}  \n",
    "= \\begin{bmatrix}\n",
    "\\mathbf{v}_1(\\mu)[0] & \\mathbf{v}_2(\\mu)[0] & \\mathbf{v}_3(\\mu)[0]\n",
    "\\\\\n",
    "e^{\\lambda_1(\\mu)} \\mathbf{v}_1(\\mu)[0] & e^{\\lambda_2(\\mu)}\\mathbf{v}_2(\\mu)[0] & e^{\\lambda_3(\\mu)}\\mathbf{v}_3(\\mu)[0]\n",
    "\\\\\n",
    "e^{2\\lambda_1(\\mu)}\\mathbf{v}_1(\\mu)[0] & e^{2\\lambda_2(\\mu)}\\mathbf{v}_2(\\mu)[0] & e^{2\\lambda_3(\\mu)}\\mathbf{v}_3(\\mu)[0]\n",
    "\\end{bmatrix}\n",
    "\\begin{bmatrix}\n",
    "c_1 \\\\ c_2 \\\\ c_3\n",
    "\\end{bmatrix}\n",
    "$$\n",
    "\n",
    "\\\n",
    "returns$^\\ast$ the coefficients $c_1, c_2, c_3$ and, thus, allows us to compute the evolution of the state vector $\\mathbf{u}$.\n",
    "\n",
    "\\\n",
    "$\\ast$ The linear system in the unknowns $c_1, c_2, c_3$ is well-posed only if the dynamical system is observable with respect to the sensor measurments, i.e. if the observability matrix\n",
    "\n",
    "\\\n",
    "$$\n",
    "O = \\begin{bmatrix}\n",
    "C \\\\ C A \\\\ C A^2\n",
    "\\end{bmatrix}\n",
    "$$\n",
    "\n",
    "\\\n",
    "is full-rank, where $C$ is the output matrix ($C = [1,0,0]$ in the example at hand since we measure the first state component) and $A$ is the dynamical system matrix."
   ]
  },
  {
   "cell_type": "code",
   "execution_count": 9,
   "metadata": {
    "id": "E0igaVBBtipO"
   },
   "outputs": [
    {
     "name": "stdout",
     "output_type": "stream",
     "text": [
      "The system is observable\n"
     ]
    }
   ],
   "source": [
    "# CHECK OBSERVABILITY\n",
    "\n",
    "mu = 0.3\n",
    "A = assembly(mu)\n",
    "\n",
    "C = [1, 0, 0]\n",
    "O = np.array([C, np.dot(C, A), np.dot(C, A*A)])\n",
    "if np.linalg.matrix_rank(O) == nstate:\n",
    "    print('The system is observable')\n",
    "else:\n",
    "    print('The system is not observable')"
   ]
  },
  {
   "cell_type": "code",
   "execution_count": 10,
   "metadata": {
    "id": "3WopbyANFqRa"
   },
   "outputs": [],
   "source": [
    "# DEFINE FUNCTION TO PROCESS DATA\n",
    "\n",
    "class TimeSeriesDataset(torch.utils.data.Dataset):\n",
    "    '''\n",
    "    Define a dataset of input-output time-series\n",
    "\n",
    "    Inputs\n",
    "        sequence of input measurements    (`torch.Tensor[float]`, shape: (ntrajectories, ntimes, ninput))\n",
    "        state measurements                (`torch.Tensor[float]`, shape: (ntrajectories, ntimes, noutput))\n",
    "\n",
    "    Output\n",
    "        Torch dataset                     (`torch.utils.data.Dataset`)\n",
    "    '''\n",
    "\n",
    "    def __init__(self, X, Y):\n",
    "        self.X = X\n",
    "        self.Y = Y\n",
    "        self.len = X.shape[0]\n",
    "\n",
    "    def __getitem__(self, index):\n",
    "        return self.X[index], self.Y[index]\n",
    "\n",
    "    def __len__(self):\n",
    "        return self.len\n",
    "\n",
    "\n",
    "def Padding(data, lag):\n",
    "    '''\n",
    "    Extract time-series of lenght equal to lag from longer time series in data\n",
    "\n",
    "    Inputs\n",
    "        time-series data          (`torch.Tensor[float]`, shape: (ntrajectories, ntimes, ninput))\n",
    "        lag parameter             (`int`)\n",
    "\n",
    "    Input\n",
    "        lagged time-series data   (`torch.Tensor[float]`, shape: (ntrajectories * ntimes, lag, ninput))\n",
    "    '''\n",
    "\n",
    "    data_out = torch.zeros(data.shape[0] * data.shape[1], lag, data.shape[2])\n",
    "\n",
    "    for i in range(data.shape[0]):\n",
    "        for j in range(1, data.shape[1] + 1):\n",
    "            if j < lag:\n",
    "                data_out[i * data.shape[1] + j - 1, -j:] = data[i, :j]\n",
    "            else:\n",
    "                data_out[i * data.shape[1] + j - 1] = data[i, j - lag : j]\n",
    "\n",
    "    return data_out"
   ]
  },
  {
   "cell_type": "code",
   "execution_count": 11,
   "metadata": {
    "id": "ysMOW5rRigZv"
   },
   "outputs": [],
   "source": [
    "# DEFINE SHRED MODEL\n",
    "\n",
    "class SHRED(torch.nn.Module):\n",
    "\n",
    "    def __init__(self, input_size, output_size, hidden_size = 64, hidden_layers = 2, decoder_sizes = [350, 400], dropout = 0.0):\n",
    "        '''\n",
    "        SHRED model definition\n",
    "\n",
    "        Inputs\n",
    "        \tinput size (e.g. number of sensors)                 (`int`)\n",
    "        \toutput size (e.g. full-order variable dimension)    (`int`)\n",
    "        \tsize of LSTM hidden layers                          (`int`)\n",
    "        \tnumber of LSTM hidden layers                        (`int`)\n",
    "        \tlist of decoder layers sizes                        (`list[int]`)\n",
    "        \tdropout parameter                                   (`float`)\n",
    "        '''\n",
    "\n",
    "        super(SHRED,self).__init__()\n",
    "\n",
    "        self.lstm = torch.nn.LSTM(input_size = input_size,\n",
    "                                  hidden_size = hidden_size,\n",
    "                                  num_layers = hidden_layers,\n",
    "                                  batch_first=True)\n",
    "\n",
    "        self.decoder = torch.nn.ModuleList()\n",
    "        decoder_sizes.insert(0, hidden_size)\n",
    "        decoder_sizes.append(output_size)\n",
    "\n",
    "        for i in range(len(decoder_sizes)-1):\n",
    "            self.decoder.append(torch.nn.Linear(decoder_sizes[i], decoder_sizes[i+1]))\n",
    "            if i != len(decoder_sizes)-2:\n",
    "                self.decoder.append(torch.nn.Dropout(dropout))\n",
    "                self.decoder.append(torch.nn.ReLU())\n",
    "\n",
    "        self.hidden_layers = hidden_layers\n",
    "        self.hidden_size = hidden_size\n",
    "\n",
    "    def forward(self, x):\n",
    "\n",
    "        h_0 = torch.zeros((self.hidden_layers, x.size(0), self.hidden_size), dtype=torch.float)\n",
    "        c_0 = torch.zeros((self.hidden_layers, x.size(0), self.hidden_size), dtype=torch.float)\n",
    "        if next(self.parameters()).is_cuda:\n",
    "            h_0 = h_0.cuda()\n",
    "            c_0 = c_0.cuda()\n",
    "\n",
    "        _, (output, _) = self.lstm(x, (h_0, c_0))\n",
    "        output = output[-1].view(-1, self.hidden_size)\n",
    "\n",
    "        for layer in self.decoder:\n",
    "            output = layer(output)\n",
    "\n",
    "        return output\n",
    "\n",
    "    def freeze(self):\n",
    "\n",
    "        self.eval()\n",
    "\n",
    "        for param in self.parameters():\n",
    "            param.requires_grad = False\n",
    "\n",
    "    def unfreeze(self):\n",
    "\n",
    "        self.train()\n",
    "\n",
    "        for param in self.parameters():\n",
    "            param.requires_grad = True\n"
   ]
  },
  {
   "cell_type": "code",
   "execution_count": 12,
   "metadata": {
    "id": "iT3F5wYNFVt1"
   },
   "outputs": [],
   "source": [
    "# DEFINE TRAINING FUNCTION\n",
    "\n",
    "from torch.utils.data import DataLoader\n",
    "from copy import deepcopy\n",
    "from IPython.display import clear_output as clc\n",
    "\n",
    "mse = lambda datatrue, datapred: (datatrue - datapred).pow(2).sum(axis = -1).mean()  # Mean Squared Error\n",
    "error_formatter = lambda error: \".6f\" % error\n",
    "\n",
    "def fit(model, train_dataset, valid_dataset, batch_size = 64, epochs = 4000, optim = torch.optim.Adam, lr = 1e-3, loss_fun = mse, loss_output = mse, formatter = error_formatter, verbose = False, patience = 5):\n",
    "    '''\n",
    "    Neural networks training\n",
    "\n",
    "    Inputs\n",
    "    \tmodel                                 (`torch.nn.Module`)\n",
    "    \ttraining dataset                      (`torch.Tensor`)\n",
    "    \tvalidation dataset                    (`torch.Tensor`)\n",
    "    \tbatch size                            (`int`)\n",
    "    \tnumber of epochs                      (`int`)\n",
    "    \toptimizer                             (`function`)\n",
    "    \tlearning rate                         (`float`)\n",
    "      loss function                         (`function`)\n",
    "      loss value to print and return        (`function`)\n",
    "      loss formatter for printing           (`function`)\n",
    "    \tverbose parameter                     (`bool`)\n",
    "    \tpatience parameter                    (`int`)\n",
    "    '''\n",
    "\n",
    "    train_loader = DataLoader(train_dataset, shuffle = True, batch_size = batch_size)\n",
    "    optimizer = optim(model.parameters(), lr = lr)\n",
    "\n",
    "    train_error_list = []\n",
    "    valid_error_list = []\n",
    "    patience_counter = 0\n",
    "    best_params = model.state_dict()\n",
    "\n",
    "    for epoch in range(1, epochs + 1):\n",
    "\n",
    "        for k, data in enumerate(train_loader):\n",
    "            model.train()\n",
    "            def closure():\n",
    "                outputs = model(data[0])\n",
    "                optimizer.zero_grad()\n",
    "                loss = loss_fun(outputs, data[1])\n",
    "                loss.backward()\n",
    "                return loss\n",
    "            optimizer.step(closure)\n",
    "\n",
    "        model.eval()\n",
    "        with torch.no_grad():\n",
    "            train_error = loss_output(train_dataset.Y, model(train_dataset.X))\n",
    "            valid_error = loss_output(valid_dataset.Y, model(valid_dataset.X))\n",
    "            train_error_list.append(train_error)\n",
    "            valid_error_list.append(valid_error)\n",
    "\n",
    "        if verbose == True:\n",
    "            print(\"Epoch \"+ str(epoch) + \": Training loss = \" + \"%.6f\" % train_error_list[-1] + \" \\t Validation loss = \" + \"%.6f\" % valid_error_list[-1])\n",
    "            clc(wait = True)\n",
    "\n",
    "        if valid_error == torch.min(torch.tensor(valid_error_list)):\n",
    "            patience_counter = 0\n",
    "            best_params = deepcopy(model.state_dict())\n",
    "        else:\n",
    "            patience_counter += 1\n",
    "\n",
    "        if patience_counter == patience:\n",
    "            model.load_state_dict(best_params)\n",
    "            train_error = loss_output(train_dataset.Y, model(train_dataset.X))\n",
    "            valid_error = loss_output(valid_dataset.Y, model(valid_dataset.X))\n",
    "\n",
    "            if verbose == True:\n",
    "                print(\"Training done: Training loss = \" + \"%.6f\" % train_error + \" \\t Validation loss = \" + \"%.6f\" % valid_error)\n",
    "\n",
    "            return torch.tensor(train_error_list).detach().cpu().numpy(), torch.tensor(valid_error_list).detach().cpu().numpy()\n",
    "\n",
    "    model.load_state_dict(best_params)\n",
    "    train_error = loss_output(train_dataset.Y, model(train_dataset.X))\n",
    "    valid_error = loss_output(valid_dataset.Y, model(valid_dataset.X))\n",
    "\n",
    "    if verbose == True:\n",
    "      print(\"Training done: Training loss = \" + \"%.6f\" % train_error + \" \\t Validation loss = \" + \"%.6f\" % valid_error)\n",
    "\n",
    "    return torch.tensor(train_error_list).detach().cpu().numpy(), torch.tensor(valid_error_list).detach().cpu().numpy()"
   ]
  },
  {
   "cell_type": "code",
   "execution_count": 13,
   "metadata": {
    "id": "oROHRQQ1Jszl"
   },
   "outputs": [],
   "source": [
    "# EXTRACT SENSORS DATA\n",
    "\n",
    "idx_sensor = 0\n",
    "nsensors = 1\n",
    "\n",
    "sensors_data_train = Utrain[:,:,idx_sensor]\n",
    "sensors_data_valid = Uvalid[:,:,idx_sensor]\n",
    "sensors_data_test = Utest[:,:,idx_sensor]"
   ]
  },
  {
   "cell_type": "code",
   "execution_count": 14,
   "metadata": {
    "id": "FG6gkBPsTcQs"
   },
   "outputs": [],
   "source": [
    "# BUILD TRAIN, VALIDATION AND TEST DATASETS WITH PADDING\n",
    "\n",
    "device = torch.device(\"cuda\" if torch.cuda.is_available() else \"cpu\")\n",
    "\n",
    "lag = 25\n",
    "\n",
    "train_data_in = Padding(sensors_data_train.unsqueeze(2), lag).to(device)\n",
    "valid_data_in = Padding(sensors_data_valid.unsqueeze(2), lag).to(device)\n",
    "test_data_in = Padding(sensors_data_test.unsqueeze(2), lag).to(device)\n",
    "\n",
    "train_data_out = Padding(Utrain, 1).squeeze(1).to(device)\n",
    "valid_data_out = Padding(Uvalid, 1).squeeze(1).to(device)\n",
    "test_data_out = Padding(Utest, 1).squeeze(1).to(device)\n",
    "\n",
    "train_dataset = TimeSeriesDataset(train_data_in, train_data_out)\n",
    "valid_dataset = TimeSeriesDataset(valid_data_in, valid_data_out)\n",
    "test_dataset = TimeSeriesDataset(test_data_in, test_data_out)"
   ]
  },
  {
   "cell_type": "code",
   "execution_count": 15,
   "metadata": {
    "id": "h-VdIh2fUWDl"
   },
   "outputs": [
    {
     "name": "stdout",
     "output_type": "stream",
     "text": [
      "Training done: Training loss = 0.000011 \t Validation loss = 0.000013\n"
     ]
    }
   ],
   "source": [
    "# SHRED TRAINING\n",
    "\n",
    "shred = SHRED(nsensors, nstate, hidden_size = 64, hidden_layers = 2, decoder_sizes = [], dropout = 0.1).to(device)\n",
    "train_errors, valid_errors = fit(shred, train_dataset, valid_dataset, batch_size = 64, epochs = 150, lr = 1e-3, verbose = True, patience = 100)"
   ]
  },
  {
   "cell_type": "code",
   "execution_count": 16,
   "metadata": {
    "id": "HsfRmovokf9X"
   },
   "outputs": [
    {
     "data": {
      "image/png": "[encoded data removed]",
      "text/plain": [
       "<Figure size 800x500 with 1 Axes>"
      ]
     },
     "metadata": {},
     "output_type": "display_data"
    }
   ],
   "source": [
    "# TRAINING HISTORY VISUALIZATION\n",
    "\n",
    "plt.figure(figsize = (8,5))\n",
    "plt.plot(train_errors, 'k', linewidth = 3, label = 'Training error')\n",
    "plt.plot(valid_errors, 'orange', linewidth = 3, label = 'Validation error')\n",
    "plt.xlabel('Epochs')\n",
    "plt.ylabel('Loss')\n",
    "plt.legend()\n",
    "plt.grid(True)"
   ]
  },
  {
   "cell_type": "code",
   "execution_count": 17,
   "metadata": {
    "id": "2MY5pzGmcKfW"
   },
   "outputs": [
    {
     "data": {
      "application/vnd.jupyter.widget-view+json": {
       "model_id": "f28e762331014094b2b024b4641b0ec8",
       "version_major": 2,
       "version_minor": 0
      },
      "text/plain": [
       "interactive(children=(IntSlider(value=0, description='Test case', layout=Layout(height='50px', width='550px'),…"
      ]
     },
     "metadata": {},
     "output_type": "display_data"
    }
   ],
   "source": [
    "# SHRED RECONSTRUCTION VISUALIZATION\n",
    "\n",
    "from ipywidgets import interact, IntSlider\n",
    "import matplotlib.lines as mlines\n",
    "\n",
    "shred.freeze()\n",
    "\n",
    "Utest_hat = shred(test_data_in).cpu().reshape(ntest, ntimes, nstate)\n",
    "\n",
    "def plot_shred_reconstruction(which_test_trajectory):\n",
    "\n",
    "    plt.figure(figsize = (8,5))\n",
    "    plt.plot(t, Utest[which_test_trajectory,:,0], color = 'magenta', linewidth = 1, label = 'Blood')\n",
    "    plt.plot(t, Utest[which_test_trajectory,:,1], color = 'teal', linewidth = 1, label = 'Highly perfused tissues')\n",
    "    plt.plot(t, Utest[which_test_trajectory,:,2], color = 'darkkhaki', linewidth = 1, label = 'Poorly perfused tissues')\n",
    "    plt.plot(t, Utest_hat[which_test_trajectory,:,0], color = 'magenta', linestyle = '--', linewidth = 3, label = r'$u_1$ reconstruction')\n",
    "    plt.plot(t, Utest_hat[which_test_trajectory,:,1], color = 'teal', linestyle = '--', linewidth = 3, label = r'$u_2$ reconstruction')\n",
    "    plt.plot(t, Utest_hat[which_test_trajectory,:,2], color = 'darkkhaki', linestyle = '--', linewidth = 3, label = r'$u_3$ reconstruction')\n",
    "    plt.legend()\n",
    "    plt.xlabel('Time')\n",
    "    plt.ylabel('Amount of drug');\n",
    "    plt.title(f'Test case {which_test_trajectory}');\n",
    "    plt.grid(True)\n",
    "\n",
    "interact(plot_shred_reconstruction, which_test_trajectory = IntSlider(value = 0, min = 0, max = ntest - 1, description='Test case', layout={'width': '550px', 'height': '50px'}));"
   ]
  }
 ],
 "metadata": {
  "accelerator": "GPU",
  "colab": {
   "authorship_tag": "ABX9TyNu2U6Ag0GIHXnIFL9m7n7z",
   "gpuType": "T4",
   "include_colab_link": true,
   "provenance": []
  },
  "kernelspec": {
   "display_name": "Python 3 (ipykernel)",
   "language": "python",
   "name": "python3"
  },
  "language_info": {
   "codemirror_mode": {
    "name": "ipython",
    "version": 3
   },
   "file_extension": ".py",
   "mimetype": "text/x-python",
   "name": "python",
   "nbconvert_exporter": "python",
   "pygments_lexer": "ipython3",
   "version": "3.8.10"
  }
 },
 "nbformat": 4,
 "nbformat_minor": 4
}
